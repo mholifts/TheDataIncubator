{
 "cells": [
  {
   "cell_type": "code",
   "execution_count": 13,
   "id": "9f6890db-d9f0-4ebf-9cfc-b1d8bdc5072b",
   "metadata": {},
   "outputs": [],
   "source": [
    "import pandas as pd\n",
    "import matplotlib.pyplot as plt\n",
    "import numpy as np\n",
    "import math\n",
    "from sklearn.linear_model import LinearRegression \n",
    "from itertools import permutations\n",
    "import statistics"
   ]
  },
  {
   "cell_type": "code",
   "execution_count": 3,
   "id": "ddc480da-eba5-4875-b1cf-f4547c10417f",
   "metadata": {},
   "outputs": [],
   "source": [
    "data = pd.read_csv(\"NYC_Wi-Fi_Hotspot_Locations.csv\")\n",
    "data_census = pd.read_csv(\"Census_Demographics_at_the_Neighborhood_Tabulation_Area__NTA__level.csv\")\n"
   ]
  },
  {
   "cell_type": "code",
   "execution_count": 4,
   "id": "dd14e866-7135-4859-aa3f-ad6a19dbdb78",
   "metadata": {},
   "outputs": [
    {
     "data": {
      "text/plain": [
       "17"
      ]
     },
     "execution_count": 4,
     "metadata": {},
     "output_type": "execute_result"
    }
   ],
   "source": [
    "# How many unique providers are there?\n",
    "len(data.Provider.unique())"
   ]
  },
  {
   "cell_type": "code",
   "execution_count": 5,
   "id": "a7c9a639-e583-4c13-8f6f-68387b36293a",
   "metadata": {},
   "outputs": [
    {
     "data": {
      "text/plain": [
       "120"
      ]
     },
     "execution_count": 5,
     "metadata": {},
     "output_type": "execute_result"
    }
   ],
   "source": [
    "# How many WiFi hotspots are there by the second most common provider in the Bronx?\n",
    "data[data['Borough Name'] == 'Bronx'].Provider.value_counts()[1]"
   ]
  },
  {
   "cell_type": "code",
   "execution_count": 6,
   "id": "ea90ef62-9e4f-4667-8d86-62ae07f88127",
   "metadata": {},
   "outputs": [
    {
     "data": {
      "text/plain": [
       "0.05302802048809883"
      ]
     },
     "execution_count": 6,
     "metadata": {},
     "output_type": "execute_result"
    }
   ],
   "source": [
    "# What fraction of WiFi hotspots are in parks? For simplicity, you can consider a park a place where the name of the location where the WiFi is located contains the word \"park\".\n",
    "len(data[data.Location.str.contains('park',case=False)])/len(data)"
   ]
  },
  {
   "cell_type": "code",
   "execution_count": 7,
   "id": "35c04f6a-319e-4a70-b0b3-09df2be23411",
   "metadata": {},
   "outputs": [
    {
     "data": {
      "text/plain": [
       "0.8122383252818035"
      ]
     },
     "execution_count": 7,
     "metadata": {},
     "output_type": "execute_result"
    }
   ],
   "source": [
    "# What is the probability that a WiFi hotspot is free (without any limitations) given that it's not in a library? For this question, pull the location data based on the \"Location_T\" field.\n",
    "non_library_data = data[data.Location_T != 'Library']\n",
    "free_non_library_data = data[(data.Location_T != 'Library') & (data.Type == 'Free')]\n",
    "len(free_non_library_data)/len(non_library_data)"
   ]
  },
  {
   "cell_type": "code",
   "execution_count": 8,
   "id": "ab74f9ea-eeb4-4ad7-a4e9-5bb96cbba98c",
   "metadata": {},
   "outputs": [
    {
     "data": {
      "text/plain": [
       "0.0008508586597922147"
      ]
     },
     "execution_count": 8,
     "metadata": {},
     "output_type": "execute_result"
    }
   ],
   "source": [
    "# How are WiFi hotspots distributed across neighborhoods? For this question, calculate the number of WiFi hotspots per capita for each Neighborhood Tabulation Area (NTA). Exclude NTAs with less than 30 reported WiFi hotspots. Report the interquartile range of the averages.\n",
    "# For population data for each NTA, use this dataset; information on the dataset is found here. Use the population data for the column corresponding to 2010.\n",
    "#data.set_index('Neighborhood Tabulation Area Code (NTACODE)').join(data_census.set_index('Geographic Area - Neighborhood Tabulation Area (NTA)* Code'))\n",
    "code_counts = data['Neighborhood Tabulation Area Code (NTACODE)'].value_counts()\n",
    "code_list = code_counts[code_counts.ge(30)] \n",
    "tempDF = pd.DataFrame(code_list).join(data_census.set_index('Geographic Area - Neighborhood Tabulation Area (NTA)* Code'))\n",
    "tempDF['wifi_per_capita'] = tempDF['Neighborhood Tabulation Area Code (NTACODE)']/tempDF['Total Population 2010 Number']\n",
    "Q1 = tempDF.wifi_per_capita.quantile(.25)\n",
    "Q3 = tempDF.wifi_per_capita.quantile(.75)\n",
    "IQR = Q3- Q1\n",
    "IQR"
   ]
  },
  {
   "cell_type": "code",
   "execution_count": null,
   "id": "bdf71e6c-5216-4c0c-9c5f-56c6e7398858",
   "metadata": {},
   "outputs": [],
   "source": [
    "data['day_of_week'] = pd.to_datetime(data.Activated).dt.strftime('%m%y')"
   ]
  },
  {
   "cell_type": "code",
   "execution_count": 100,
   "id": "9f8ca323-27cb-434e-92ff-4a4f4ae08ac7",
   "metadata": {},
   "outputs": [
    {
     "data": {
      "text/plain": [
       "276.34827996962105"
      ]
     },
     "execution_count": 100,
     "metadata": {},
     "output_type": "execute_result"
    }
   ],
   "source": [
    "# How far must one travel from one hotspot to another? For this question, report the median distance, in feet, of the average distance between each hotspot to the nearest 3 hotspots. For your distance calculation, calculate the distance \"as the crow flies\". For simplicity, please use the spherical Earth projected to a plane equation for calculating distances. Use the radius of the Earth as 6371 km. Remember, report your answer in feet.\n",
    "R = 3958.7558657\n",
    "Latitude_rad = data['Latitude'].apply(math.radians).values\n",
    "Longitude_rad = data['Longitude'].apply(math.radians).values\n",
    "Latitude_rad_reg = np.tile(Latitude_rad,(len(Latitude_rad),1))\n",
    "Latitude_rad_trans = Latitude_rad_reg.T\n",
    "Longitude_rad_reg = np.tile(Longitude_rad,(len(Longitude_rad),1))\n",
    "Longitude_rad_trans = Longitude_rad_reg.T\n",
    "d_phi_sqrd = np.subtract(Latitude_rad_reg, Latitude_rad_trans)**2 \n",
    "cos_med_phi = np.cos(np.add(Latitude_rad_reg, Latitude_rad_trans)/2)\n",
    "d_lambda = np.subtract(Longitude_rad_reg, Longitude_rad_trans)\n",
    "distance = 5280*R*np.sqrt(np.add(d_phi_sqrd,(cos_med_phi * d_lambda)**2))\n",
    "np.median(np.mean(np.sort(distance,axis=1)[:,1:4],axis=1))\n",
    "\n"
   ]
  },
  {
   "cell_type": "code",
   "execution_count": 223,
   "id": "28134e17-ee72-4773-ab74-b736af1bb1cd",
   "metadata": {},
   "outputs": [
    {
     "data": {
      "text/plain": [
       "0.24368825466520308"
      ]
     },
     "execution_count": 223,
     "metadata": {},
     "output_type": "execute_result"
    }
   ],
   "source": [
    "#The dataset contains information on the date the hotspot was activated. What fraction of all activations occurred on the day of week that had the most activations? In other words, if Monday had the most activations, what fraction of activations occurred on Monday? Note: there are some dates that don't make sense. Ignore them for the analysis.\n",
    "filteredData = data[data.Activated != '9/9/9999'].copy()\n",
    "filteredData['day_of_week'] = pd.to_datetime(filteredData.Activated).dt.strftime('%a')\n",
    "max(filteredData['day_of_week'].value_counts())/len(filteredData['day_of_week'])"
   ]
  },
  {
   "cell_type": "code",
   "execution_count": 269,
   "id": "504e25cc-4f62-4da2-9246-23283b983725",
   "metadata": {},
   "outputs": [
    {
     "data": {
      "text/plain": [
       "array([[1.52791991]])"
      ]
     },
     "execution_count": 269,
     "metadata": {},
     "output_type": "execute_result"
    },
    {
     "data": {
      "image/png": "[encoded data removed]",
      "text/plain": [
       "<Figure size 432x288 with 1 Axes>"
      ]
     },
     "metadata": {
      "needs_background": "light"
     },
     "output_type": "display_data"
    }
   ],
   "source": [
    "#If you plot the number of hotspot activations for each month, you'll notice a general increase but then a precipitous drop after June 2018. Using a linear estimate for the number of monthly activations, what is rate of increase in monthly activations? Only consider data before July 1, 2018 and set the start date as the earliest date of the data. If you need to, use 30.5 days in a month.\n",
    "cleanData = data[data.Activated != '9/9/9999'].copy()\n",
    "cleanData['date'] = pd.to_datetime(cleanData.Activated)\n",
    "cleanData['date'] .value_counts().sort_index().groupby(pd.Grouper(freq='M')).sum().plot()\n",
    "filteredData = cleanData[cleanData.date < pd.to_datetime('7/1/2018')]\n",
    "monthlyData = filteredData['date'] .value_counts().sort_index().groupby(pd.Grouper(freq='M')).sum().reset_index()\n",
    "#monthlyData\n",
    "model = LinearRegression()\n",
    "model.fit(monthlyData.index.values.reshape(-1,1),monthlyData.date.values.reshape(-1,1))\n",
    "model.coef_\n",
    "\n"
   ]
  },
  {
   "cell_type": "code",
   "execution_count": 61,
   "id": "275c9dd3",
   "metadata": {},
   "outputs": [
    {
     "name": "stdout",
     "output_type": "stream",
     "text": [
      "mean: 6.1666666666\n",
      "stdev: 1.3726099121\n"
     ]
    }
   ],
   "source": [
    "# buildings = range(10)\n",
    "buildings = [1,1,3,4]\n",
    "\n",
    "total_sums = []\n",
    "\n",
    "def calc_distance(bdgs):\n",
    "    n = len(bdgs)\n",
    "    tallest = max(bdgs)\n",
    "    location = bdgs.index(tallest)\n",
    "    if n == 1:\n",
    "        return 1\n",
    "    if location == 0:\n",
    "        return 1 + calc_distance(bdgs[1:])\n",
    "    elif location == n-1:\n",
    "        return location + 1 +  calc_distance(bdgs[:-1])\n",
    "    else:\n",
    "        return location + 1 +  calc_distance(bdgs[:location]) + calc_distance(bdgs[location+1:])\n",
    "    \n",
    "perms = permutations(buildings)\n",
    "for perm in perms:\n",
    "    total_sums.append(calc_distance(perm))\n",
    "\n",
    "sum_val = statistics.mean(total_sums)\n",
    "stdev_val = statistics.stdev(total_sums)\n",
    "\n",
    "decimals = 10\n",
    "scale = 10**(decimals)\n",
    "print('mean: ' + str(math.trunc(sum_val*scale)/scale))\n",
    "print('stdev: ' + str(math.trunc(stdev_val*scale)/scale))\n"
   ]
  },
  {
   "cell_type": "code",
   "execution_count": 67,
   "id": "ce411bcb",
   "metadata": {},
   "outputs": [
    {
     "name": "stdout",
     "output_type": "stream",
     "text": [
      "mean: 55.5525328\n",
      "stdev: 10.0269375501\n"
     ]
    }
   ],
   "source": [
    "buildings = range(20)\n",
    "n = len(buildings)\n",
    "# buildings = np.sort(buildings)\n",
    "\n",
    "temp_dict = {\"unique\":[0],\"cnt\":[1]}\n",
    "\n",
    "value_dict = {1:{\"unique\":[0],\"cnt\":[1]},2:{\"unique\":[0,1],\"cnt\":[1,1]}}\n",
    "\n",
    "for i in range(n-2):\n",
    "    prev_val = i + 2\n",
    "    next_val = prev_val + 1\n",
    "    \n",
    "    unique_dict = np.array(value_dict[prev_val][\"unique\"])\n",
    "    count_dict = np.array(value_dict[prev_val][\"cnt\"])\n",
    "    \n",
    "    solution_dict = {\"unique\":[],\"cnt\":[]}\n",
    "        \n",
    "    for j in range(next_val):\n",
    "        left_size = j\n",
    "        right_size = next_val - (j + 1)\n",
    "        \n",
    "        if left_size == 0 or right_size == 0:\n",
    "            max_size = max(left_size,right_size)\n",
    "            unique_vals = value_dict[max_size][\"unique\"]\n",
    "            count_vals = value_dict[max_size][\"cnt\"] \n",
    "        else:\n",
    "            left_unique = value_dict[left_size][\"unique\"]\n",
    "            right_unique = value_dict[right_size][\"unique\"]\n",
    "            left_count = value_dict[left_size][\"cnt\"]\n",
    "            right_count = value_dict[right_size][\"cnt\"]        \n",
    "                \n",
    "            temp_dict = {}\n",
    "            for k, left_unique_val in enumerate(left_unique):\n",
    "                for l, right_unique_val in enumerate(right_unique):\n",
    "                    unique_val = left_unique_val + right_unique_val\n",
    "                    count_val = left_count[k] * right_count[l]\n",
    " \n",
    "                    if unique_val in temp_dict:\n",
    "                        temp_dict[unique_val] += count_val\n",
    "                    else:\n",
    "                        temp_dict[unique_val] = count_val\n",
    "            \n",
    "            unique_vals = np.array(list(temp_dict.keys()))\n",
    "            count_vals = np.array(list(temp_dict.values()))\n",
    "\n",
    "            count_vals = count_vals*math.factorial(next_val-1)/sum(count_vals)                     \n",
    "\n",
    "        new = np.tile(j,len(unique_vals))\n",
    "        sum_vals = np.add(new, unique_vals)\n",
    "        \n",
    "        solution_dict[\"unique\"].extend(sum_vals)\n",
    "        solution_dict[\"cnt\"].extend(count_vals)\n",
    "    \n",
    "    df = pd.DataFrame(np.array([solution_dict[\"unique\"],solution_dict[\"cnt\"]]).T,columns=[\"unique\",\"cnt\"])    \n",
    "\n",
    "    df = df.groupby(\"unique\").sum()              \n",
    "    value_dict[next_val] = {\"unique\":df.index.values, \"cnt\":df[\"cnt\"].values}\n",
    "    \n",
    "\n",
    "unique_arr = np.add(np.array(value_dict[n][\"unique\"]),n)\n",
    "count_arr = np.array(value_dict[n][\"cnt\"])\n",
    "total_count = sum(count_arr)\n",
    "sum_val = sum(np.multiply(unique_arr,count_arr))/total_count\n",
    "normal_unique = np.add(unique_arr,-sum_val)\n",
    "stdev_val = math.sqrt(sum(np.multiply(np.multiply(normal_unique,normal_unique),count_arr))/(total_count-1))\n",
    "\n",
    "decimals = 10\n",
    "scale = 10**(decimals)\n",
    "print('mean: ' + str(math.trunc(sum_val*scale)/scale))\n",
    "print('stdev: ' + str(math.trunc(stdev_val*scale)/scale))\n",
    "        \n",
    "    \n",
    "    "
   ]
  }
 ],
 "metadata": {
  "kernelspec": {
   "display_name": "Python 3 (ipykernel)",
   "language": "python",
   "name": "python3"
  },
  "language_info": {
   "codemirror_mode": {
    "name": "ipython",
    "version": 3
   },
   "file_extension": ".py",
   "mimetype": "text/x-python",
   "name": "python",
   "nbconvert_exporter": "python",
   "pygments_lexer": "ipython3",
   "version": "3.9.7"
  }
 },
 "nbformat": 4,
 "nbformat_minor": 5
}
